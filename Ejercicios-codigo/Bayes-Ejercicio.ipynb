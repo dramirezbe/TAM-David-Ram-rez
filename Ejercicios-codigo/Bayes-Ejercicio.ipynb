{
  "nbformat": 4,
  "nbformat_minor": 0,
  "metadata": {
    "colab": {
      "provenance": [],
      "authorship_tag": "ABX9TyNFeco/flXZLQcRkLOLJ6vw",
      "include_colab_link": true
    },
    "kernelspec": {
      "name": "python3",
      "display_name": "Python 3"
    },
    "language_info": {
      "name": "python"
    }
  },
  "cells": [
    {
      "cell_type": "markdown",
      "metadata": {
        "id": "view-in-github",
        "colab_type": "text"
      },
      "source": [
        "<a href=\"https://colab.research.google.com/github/dramirezbe/TAM-David-Ramirez/blob/main/Bayes_David_Ramirez_Betancourth.ipynb\" target=\"_parent\"><img src=\"https://colab.research.google.com/assets/colab-badge.svg\" alt=\"Open In Colab\"/></a>"
      ]
    },
    {
      "cell_type": "markdown",
      "source": [
        "#Ejercicio1 - Principios de Probabilidad - David Ramírez Betancourth"
      ],
      "metadata": {
        "id": "uTbghHiyV2bi"
      }
    },
    {
      "cell_type": "markdown",
      "source": [
        "- list_event lo que hace es tener nuestro experimento. Las filas representarán las cajas, y las columnas lo que hay dentro de la caja.\n",
        "\n",
        "- priors_ lo que hace es mantener la información previa que tenemos de nuestro experimento, en este caso, la probabilidad de escoger una caja al azar para sacar una fruta."
      ],
      "metadata": {
        "id": "czUxuQyjMQLN"
      }
    },
    {
      "cell_type": "code",
      "source": [
        "import numpy as np\n",
        "# 1 = apple\n",
        "# 0 = orange\n",
        "\n",
        "list_event = [[1,1,0,0,0,0,0,0,2,2,2],[0,1,1,1,2,2],[0,1,0,0,0,2,2]]\n",
        "\n",
        "priors_ = np.array([0.5, 0.2, 0.3]) #prior caja roja, azul\n",
        "\n",
        "print(\"Lista de eventos(list_event):\",list_event)\n",
        "print(\"Probablidad de las cajas(priors_)\",priors_)\n",
        "\n"
      ],
      "metadata": {
        "colab": {
          "base_uri": "https://localhost:8080/"
        },
        "id": "8IGfmHY2Xv5K",
        "outputId": "731a5d61-640a-4779-cb82-67c283c6e724"
      },
      "execution_count": 3,
      "outputs": [
        {
          "output_type": "stream",
          "name": "stdout",
          "text": [
            "Lista de eventos(list_event): [[1, 1, 0, 0, 0, 0, 0, 0, 2, 2, 2], [0, 1, 1, 1, 2, 2], [0, 1, 0, 0, 0, 2, 2]]\n",
            "Probablidad de las cajas(priors_) [0.5 0.2 0.3]\n"
          ]
        }
      ]
    },
    {
      "cell_type": "markdown",
      "source": [
        "- simple_list_event lo que hace es convertir nuestros datos, los reducimos de dimensión. Pasamos de tener una matriz con cajas y sus objetos, a sólo objetos(array). Esto lo hacemos con el fin de saber los tipos de eventos $F \\in \\{x_i\\}$\n",
        "\n",
        "- Teorema de Bayes: $P(A|B) = \\tfrac{P(B|A) P(A)}{P(B)}$"
      ],
      "metadata": {
        "id": "YyprHwnDNJmv"
      }
    },
    {
      "cell_type": "code",
      "execution_count": 4,
      "metadata": {
        "id": "78wIJzlRO_4t",
        "colab": {
          "base_uri": "https://localhost:8080/"
        },
        "outputId": "70289fff-c52f-4c4b-90b7-a8ebaf5c2ce6"
      },
      "outputs": [
        {
          "output_type": "stream",
          "name": "stdout",
          "text": [
            "Número de cajas(box_num): 3\n",
            "Cantidad de objetos por caja(lenperbox): [11, 6, 7]\n",
            "Tipos de eventos posibles(event_array): [0, 1, 2]\n",
            "Cantidad de eventos(event_num) 3\n",
            "array de longitud de cada evento(box_count):  [array([6, 2, 3]), array([1, 3, 2]), array([4, 1, 2])]\n",
            "Resultado marginales(resm_arr):  [0.4774891774891774, 0.23376623376623376, 0.2887445887445887]\n",
            "p(F=0) = 0.4774891774891774\n",
            "p(F=1) = 0.23376623376623376\n",
            "p(F=2) = 0.2887445887445887\n",
            "P(F=0|B=0) = 0.5454545454545454\n",
            "P(F=0|B=1) = 0.16666666666666666\n",
            "P(F=0|B=2) = 0.5714285714285714\n",
            "P(F=1|B=0) = 0.18181818181818182\n",
            "P(F=1|B=1) = 0.5\n",
            "P(F=1|B=2) = 0.14285714285714285\n",
            "P(F=2|B=0) = 0.2727272727272727\n",
            "P(F=2|B=1) = 0.3333333333333333\n",
            "P(F=2|B=2) = 0.2857142857142857\n",
            "P(B=0|F=0) = 0.57116953762466\n",
            "P(B=1|F=0) = 0.06980961015412512\n",
            "P(B=2|F=0) = 0.3590208522212149\n",
            "P(B=0|F=1) = 0.3888888888888889\n",
            "P(B=1|F=1) = 0.4277777777777778\n",
            "P(B=2|F=1) = 0.18333333333333332\n",
            "P(B=0|F=2) = 0.47226386806596704\n",
            "P(B=1|F=2) = 0.23088455772113947\n",
            "P(B=2|F=2) = 0.29685157421289354\n"
          ]
        }
      ],
      "source": [
        "\n",
        "def prob_event(list_event, priors):\n",
        "    box_num = len(list_event)  #numero de cajas\n",
        "    print(f\"Número de cajas(box_num): {box_num}\")\n",
        "\n",
        "    lenperbox = []  #cantidad de objetos por caja\n",
        "\n",
        "    for i in list_event:\n",
        "        lenperbox.append(len(i))\n",
        "    print(\"Cantidad de objetos por caja(lenperbox):\" ,lenperbox)\n",
        "\n",
        "    simple_list_event = [elemento for sublist in list_event for elemento in sublist] #convierte list_event en un array sin sublist\n",
        "\n",
        "    event_array = list(set(simple_list_event)) #hace los tipos de eventos\n",
        "    print(\"Tipos de eventos posibles(event_array):\", event_array)\n",
        "\n",
        "    event_num = len(event_array) #cantidad de objetos diferentes\n",
        "    print(\"Cantidad de eventos(event_num)\", event_num)\n",
        "\n",
        "    box_count = []\n",
        "\n",
        "    for i in list_event: # ahora i va a ser la caja\n",
        "        count_event = np.bincount(i) #utlizamos bincount con la caja\n",
        "        box_count.append(count_event) #generamos array con estas cuentas\n",
        "\n",
        "    print(\"array de longitud de cada evento(box_count): \", box_count)\n",
        "\n",
        "    resm_arr = []\n",
        "\n",
        "    \"\"\"Marginal\"\"\"\n",
        "\n",
        "    for event in range(event_num):\n",
        "        res_m = 0\n",
        "        for box in range(box_num):\n",
        "            res_m += (box_count[box][event]/lenperbox[box])*priors_[box] #Marginal\n",
        "\n",
        "        resm_arr.append(res_m)\n",
        "\n",
        "    print(\"Resultado marginales(resm_arr): \",resm_arr)\n",
        "\n",
        "    for i, j in enumerate(resm_arr):\n",
        "        print(f\"p(F={event_array[i]}) = {j}\") #Imprimir Marginal\n",
        "\n",
        "\n",
        "    \"\"\"Conjunta\"\"\"\n",
        "\n",
        "    for event in range(event_num):\n",
        "        res_c = 0\n",
        "        for box in range(box_num):\n",
        "            res_c = (box_count[box][event]/lenperbox[box]) #conjunta\n",
        "            print(f\"P(F={event_array[event]}|B={box}) = {res_c}\")\n",
        "\n",
        "    \"\"\"Bayes\"\"\"\n",
        "    #p(a|b)/(p(b|a)p(a)/p(b))\n",
        "    # Teorema de bayes\n",
        "\n",
        "    for event in range(event_num):\n",
        "        res_c = 0\n",
        "        res_bayes = 0\n",
        "        for box in range(box_num):\n",
        "            res_c = (box_count[box][event]/lenperbox[box]) #conjunta\n",
        "            res_bayes = (res_c*priors[box])/resm_arr[event]\n",
        "            print(f\"P(B={box}|F={event}) = {res_bayes}\")\n",
        "\n",
        "\n",
        "\n",
        "prob_event(list_event,priors_)\n",
        "\n",
        "\n",
        "\n",
        "\n",
        "\n"
      ]
    }
  ]
}